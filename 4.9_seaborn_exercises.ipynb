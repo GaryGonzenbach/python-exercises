{
 "cells": [
  {
   "cell_type": "code",
   "execution_count": 4,
   "metadata": {},
   "outputs": [],
   "source": [
    "import pymysql as py        #   python sql driver\n",
    "import pandas as pd\n",
    "from pydataset import data\n",
    "from sqlalchemy import create_engine\n",
    "from env import user, host, pw\n",
    "import matplotlib.pyplot as plt\n",
    "import seaborn as sns\n",
    "%matplotlib qt   "
   ]
  },
  {
   "cell_type": "markdown",
   "metadata": {},
   "source": [
    "Iris exercise;    What does the distribution of petal lengths look like?\n",
    "Is there a correlation between petal length and petal width?\n",
    "Would it be reasonable to predict species based on sepal width and sepal length?\n",
    "Which features would be best used to predict species?"
   ]
  },
  {
   "cell_type": "code",
   "execution_count": 5,
   "metadata": {},
   "outputs": [
    {
     "name": "stderr",
     "output_type": "stream",
     "text": [
      "/usr/local/anaconda3/lib/python3.7/site-packages/scipy/stats/stats.py:1713: FutureWarning: Using a non-tuple sequence for multidimensional indexing is deprecated; use `arr[tuple(seq)]` instead of `arr[seq]`. In the future this will be interpreted as an array index, `arr[np.array(seq)]`, which will result either in an error or a different result.\n",
      "  return np.add.reduce(sorted[indexer] * weights, axis=axis) / sumval\n"
     ]
    }
   ],
   "source": [
    "iris = sns.load_dataset('iris')\n",
    "get_ipython().run_line_magic('matplotlib', 'qt')\n",
    "# sns.set_style('whitegrid')\n",
    "sns.distplot(iris.petal_length)\n",
    "plt.title('Iris Histogram - Petal Length')\n",
    "plt.show()\n",
    "sns.relplot(data=iris, x = 'petal_length', y = 'petal_width', hue = 'species')\n",
    "plt.xlabel('Petal Length')\n",
    "plt.ylabel('Petal Width')\n",
    "plt.title('Iris Petal Length and Width')\n",
    "plt.show()\n",
    "sns.pairplot(data=iris, hue = 'species')\n",
    "plt.show()"
   ]
  },
  {
   "cell_type": "markdown",
   "metadata": {},
   "source": [
    "Exercise 1,   anscombe dataset.  Use pandas to group the data by the dataset column, and calculate summary statistics for each dataset. What do you notice?\n",
    "\n",
    "Plot the x and y values from the anscombe data. Each dataset should be in a separate column."
   ]
  },
  {
   "cell_type": "code",
   "execution_count": 7,
   "metadata": {},
   "outputs": [],
   "source": [
    "anscombe = sns.load_dataset('anscombe')\n",
    "anscombe.describe()\n",
    "anscombe\n",
    "get_ipython().run_line_magic('matplotlib', 'qt')\n",
    "sns.pairplot(data=anscombe, hue = 'dataset')\n",
    "plt.show()"
   ]
  },
  {
   "cell_type": "code",
   "execution_count": null,
   "metadata": {},
   "outputs": [],
   "source": []
  }
 ],
 "metadata": {
  "kernelspec": {
   "display_name": "Python 3",
   "language": "python",
   "name": "python3"
  },
  "language_info": {
   "codemirror_mode": {
    "name": "ipython",
    "version": 3
   },
   "file_extension": ".py",
   "mimetype": "text/x-python",
   "name": "python",
   "nbconvert_exporter": "python",
   "pygments_lexer": "ipython3",
   "version": "3.7.1"
  }
 },
 "nbformat": 4,
 "nbformat_minor": 2
}
